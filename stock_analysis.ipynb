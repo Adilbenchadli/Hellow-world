{
  "nbformat": 4,
  "nbformat_minor": 0,
  "metadata": {
    "colab": {
      "provenance": [],
      "authorship_tag": "ABX9TyPpnH1+XlVRkdtGe47fAeZB",
      "include_colab_link": true
    },
    "kernelspec": {
      "name": "python3",
      "display_name": "Python 3"
    },
    "language_info": {
      "name": "python"
    }
  },
  "cells": [
    {
      "cell_type": "markdown",
      "metadata": {
        "id": "view-in-github",
        "colab_type": "text"
      },
      "source": [
        "<a href=\"https://colab.research.google.com/github/Adilbenchadli/Hellow-world/blob/main/stock_analysis.ipynb\" target=\"_parent\"><img src=\"https://colab.research.google.com/assets/colab-badge.svg\" alt=\"Open In Colab\"/></a>"
      ]
    },
    {
      "cell_type": "markdown",
      "source": [
        "Nouveau"
      ],
      "metadata": {
        "id": "TG-Lw7DGqqx7"
      }
    },
    {
      "cell_type": "markdown",
      "source": [
        "Separation"
      ],
      "metadata": {
        "id": "7om9-wF7twHd"
      }
    },
    {
      "cell_type": "code",
      "source": [
        "# @title\n",
        "%%writefile analysis.py\n",
        "\n",
        "import pandas as pd\n",
        "import numpy as np\n",
        "\n",
        "def process_stock_data(df: pd.DataFrame):\n",
        "    \"\"\"\n",
        "    Analyzes stock data from a DataFrame to calculate reorder quantities.\n",
        "    \"\"\"\n",
        "    # Nettoyage initial des noms de colonnes\n",
        "    df.columns = df.columns.str.strip().str.replace('\\ufeff', '', regex=True)\n",
        "\n",
        "    # Identification des colonnes de sorties\n",
        "    output_cols = [col for col in df.columns if 'Somme de Sorties' in col]\n",
        "\n",
        "    if not output_cols:\n",
        "        raise ValueError(\"Aucune colonne contenant 'Somme de Sorties' n'a été trouvée.\")\n",
        "\n",
        "    # Conversion et nettoyage des données\n",
        "    df[output_cols] = df[output_cols].fillna(0)\n",
        "    df['Stock Phy'] = pd.to_numeric(df['Stock Phy'], errors='coerce').fillna(0)\n",
        "\n",
        "    # Calculs de consommation\n",
        "    total_output = df[output_cols].sum(axis=1)\n",
        "    num_months = len(output_cols)\n",
        "    average_monthly_output = total_output / num_months if num_months > 0 else 0\n",
        "\n",
        "    df['conso-Moy-3mois'] = (average_monthly_output * 3).round(3)\n",
        "    df['Cde-conso'] = np.where(\n",
        "        df['Stock Phy'] < df['conso-Moy-3mois'],\n",
        "        df['conso-Moy-3mois'],\n",
        "        0\n",
        "    ).round(3)\n",
        "\n",
        "    # Préparation du tableau des articles à recommander\n",
        "    reorder_headers = [\n",
        "        'Code Art.',\n",
        "        'Libellé 01',\n",
        "        'Libellé 02',\n",
        "        'Stock Phy',\n",
        "        'conso-Moy-3mois',\n",
        "        'Cde-conso'\n",
        "    ]\n",
        "\n",
        "    # On ne garde que les colonnes qui existent réellement dans le fichier\n",
        "    display_headers = [h for h in reorder_headers if h in df.columns]\n",
        "\n",
        "    # Filtrage des lignes où une commande est nécessaire\n",
        "    reorder_df = df[df['Cde-conso'] > 0]\n",
        "\n",
        "    return df, reorder_df[display_headers]"
      ],
      "metadata": {
        "colab": {
          "base_uri": "https://localhost:8080/"
        },
        "cellView": "form",
        "id": "XF4317DGspUL",
        "outputId": "a38463e4-5f94-4107-f3a9-8e0d4190921d"
      },
      "execution_count": 12,
      "outputs": [
        {
          "output_type": "stream",
          "name": "stdout",
          "text": [
            "Writing analysis.py\n"
          ]
        }
      ]
    },
    {
      "cell_type": "code",
      "source": [
        "# @title\n",
        "%%writefile app.py\n",
        "\n",
        "import streamlit as st\n",
        "import pandas as pd\n",
        "from analysis import process_stock_data\n",
        "\n",
        "# Configuration de la page\n",
        "st.set_page_config(layout=\"wide\", page_title=\"Stock Analysis\")\n",
        "\n",
        "# Titre principal\n",
        "st.title(\"📊 Outil d'Analyse de Stock et de Réapprovisionnement\")\n",
        "st.write(\"Téléchargez votre fichier CSV pour analyser les niveaux de stock et identifier les articles à recommander.\")\n",
        "\n",
        "# Section d'instructions dans un expander\n",
        "with st.expander(\"ℹ️ Guide d'Utilisation et Structure du Fichier CSV\"):\n",
        "\n",
        "    st.subheader(\"Valeur Ajoutée\")\n",
        "    st.write(\"Cet outil automatise l'analyse des stocks pour prévenir les ruptures. Il calcule les besoins futurs sur la base de la consommation passée et génère une liste claire et exportable des articles nécessitant un réapprovisionnement, simplifiant ainsi la gestion des inventaires.\")\n",
        "\n",
        "    st.subheader(\"Structure du Fichier CSV\")\n",
        "    st.write(\"- **Séparateur :** Le fichier doit utiliser un point-virgule (`;`) comme séparateur de colonnes.\")\n",
        "    st.write(\"- **Encodage :** Utilisez l'encodage `ISO-8859-1` (Europe occidentale).\")\n",
        "    st.write(\"- **Colonnes :** Le fichier doit contenir les 20 colonnes exactes ci-dessous, dans cet ordre précis :\")\n",
        "\n",
        "    column_list_text = \"\"\"Code Art.\n",
        "Libellé 01\n",
        "Libellé 02\n",
        "Stock Phy\n",
        "Mois-1-Somme de Entrées\n",
        "Mois-1-Somme de Sorties\n",
        "Mois-2-Somme de Entrées\n",
        "Mois-2-Somme de Sorties\n",
        "Mois-3-Somme de Entrées\n",
        "Mois-3-Somme de Sorties\n",
        "Mois-4-Somme de Entrées\n",
        "Mois-4-Somme de Sorties\n",
        "Mois-5-Somme de Entrées\n",
        "Mois-5-Somme de Sorties\n",
        "Mois-6-Somme de Entrées\n",
        "Mois-6-Somme de Sorties\n",
        "Mois-7-Somme de Entrées\n",
        "Mois-7-Somme de Sorties\n",
        "Mois-8-Somme de Entrées\n",
        "Mois-8-Somme de Sorties\"\"\"\n",
        "    st.code(column_list_text, language='text')\n",
        "\n",
        "    st.subheader(\"Méthode de Calcul\")\n",
        "    st.write(\"- **Consommation Mensuelle Moyenne :** Additionne toutes les colonnes `'Somme de Sorties...'` et divise par le nombre de mois.\")\n",
        "    st.write(\"- **Besoin pour 3 mois (`conso-Moy-3mois`) :** Multiplie la consommation moyenne par 3.\")\n",
        "    st.write(\"- **Quantité à recommander (`Cde-conso`) :** Si le `Stock Phy` est inférieur au besoin pour 3 mois, cette valeur est égale au besoin pour 3 mois ; sinon, elle est de 0.\")\n",
        "\n",
        "# Uploader de fichier\n",
        "uploaded_file = st.file_uploader(\"Choisissez votre fichier d'extraction CSV\", type=['csv'])\n",
        "\n",
        "# Traitement et affichage des résultats\n",
        "if uploaded_file is not None:\n",
        "    try:\n",
        "        df_initial = pd.read_csv(uploaded_file, sep=';', decimal=',', encoding='ISO-8859-1')\n",
        "        df_full_analysis, df_to_reorder = process_stock_data(df_initial)\n",
        "\n",
        "        st.success(\"Fichier traité avec succès ! Voici les résultats :\")\n",
        "        st.header(\"Analyse Complète du Stock\")\n",
        "        st.dataframe(df_full_analysis)\n",
        "        st.header(\"Articles à Recommander\")\n",
        "        if df_to_reorder.empty:\n",
        "            st.info(\"✅ Bonne nouvelle ! Aucun article à recommander pour le moment.\")\n",
        "        else:\n",
        "            st.dataframe(df_to_reorder)\n",
        "    except ValueError as ve:\n",
        "        st.error(f\"Erreur dans les données du fichier : {ve}\")\n",
        "    except Exception as e:\n",
        "        st.error(f\"Une erreur inattendue est survenue : {e}\")\n",
        "        st.warning(\"Veuillez vérifier que le format du fichier est correct.\")"
      ],
      "metadata": {
        "colab": {
          "base_uri": "https://localhost:8080/"
        },
        "cellView": "form",
        "id": "WyxQy8xQsEan",
        "outputId": "2fa7f2c7-0967-411c-c763-51a2c042a749"
      },
      "execution_count": 13,
      "outputs": [
        {
          "output_type": "stream",
          "name": "stdout",
          "text": [
            "Writing app.py\n"
          ]
        }
      ]
    },
    {
      "cell_type": "code",
      "source": [
        "# @title\n",
        "!pip install streamlit pyngrok -q\n",
        "from pyngrok import ngrok\n",
        "import os\n",
        "\n",
        "# --- VEUILLEZ METTRE VOTRE VRAI TOKEN NGROK ICI ---\n",
        "AUTHTOKEN = \"32FLxM3IH2YTsSXYXtT602CYtTR_32PgVusEahqzovfDdo2PV\"\n",
        "\n",
        "if \"METTEZ_VOTRE_VRAI_TOKEN_NGROK_ICI\" in AUTHTOKEN:\n",
        "    print(\"🛑 Erreur : Veuillez remplacer le placeholder par votre vrai token ngrok.\")\n",
        "else:\n",
        "    ngrok.set_auth_token(AUTHTOKEN)\n",
        "\n",
        "    # Nettoyage des anciens tunnels pour éviter les erreurs\n",
        "    print(\"Nettoyage des anciens tunnels ngrok...\")\n",
        "    try:\n",
        "      for tunnel in ngrok.get_tunnels():\n",
        "          ngrok.disconnect(tunnel.public_url)\n",
        "    except:\n",
        "      pass\n",
        "\n",
        "    # Lancement de l'application en arrière-plan\n",
        "    os.system(\"streamlit run app.py &\")\n",
        "\n",
        "    # Connexion à ngrok avec votre domaine personnalisé\n",
        "    try:\n",
        "        public_url = ngrok.connect(8501, domain=\"ngrok.smflaser.com\")\n",
        "        print(\"🚀 Votre application est prête !\")\n",
        "        print(f\"Cliquez sur ce lien pour y accéder : {public_url}\")\n",
        "    except Exception as e:\n",
        "        print(f\"❌ Erreur lors de la connexion à ngrok avec le domaine personnalisé : {e}\")"
      ],
      "metadata": {
        "colab": {
          "base_uri": "https://localhost:8080/"
        },
        "cellView": "form",
        "id": "KCg3XdmUt2lH",
        "outputId": "708337d0-fdb9-4ef4-915e-c3806597504a"
      },
      "execution_count": 14,
      "outputs": [
        {
          "output_type": "stream",
          "name": "stdout",
          "text": [
            "🚀 Votre application de test est prête !\n",
            "Cliquez sur ce lien pour y accéder : NgrokTunnel: \"https://ngrok.smflaser.com\" -> \"http://localhost:8501\"\n"
          ]
        }
      ]
    },
    {
      "cell_type": "markdown",
      "source": [
        "Arreter ngrok"
      ],
      "metadata": {
        "id": "2HJv5PPo2TJb"
      }
    },
    {
      "cell_type": "code",
      "source": [
        "# @title\n",
        "from pyngrok import ngrok\n",
        "\n",
        "# L'URL exacte du tunnel que vous voulez fermer\n",
        "tunnel_url_to_close = \"https://ngrok.smflaser.com\"\n",
        "\n",
        "try:\n",
        "    # On récupère tous les tunnels actifs\n",
        "    for tunnel in ngrok.get_tunnels():\n",
        "        if tunnel.public_url == tunnel_url_to_close:\n",
        "            print(f\"🛑 Shutting down tunnel: {tunnel.public_url}\")\n",
        "            ngrok.disconnect(tunnel.public_url)\n",
        "            print(\"Tunnel successfully closed.\")\n",
        "    print(\"Cleanup finished.\")\n",
        "except Exception as e:\n",
        "    print(f\"Could not shut down tunnel: {e}\")"
      ],
      "metadata": {
        "cellView": "form",
        "colab": {
          "base_uri": "https://localhost:8080/"
        },
        "id": "tmoO_b_AzCcl",
        "outputId": "60cd3067-136e-4667-a9e0-85f74f7e21b2"
      },
      "execution_count": 15,
      "outputs": [
        {
          "output_type": "stream",
          "name": "stderr",
          "text": [
            "WARNING:pyngrok.process.ngrok:t=2025-10-09T16:48:45+0000 lvl=warn msg=\"Stopping forwarder\" name=http-8501-aad0ae50-34f2-4791-8187-63b6b10c082a acceptErr=\"failed to accept connection: Listener closed\"\n"
          ]
        },
        {
          "output_type": "stream",
          "name": "stdout",
          "text": [
            "🛑 Shutting down tunnel: https://ngrok.smflaser.com\n",
            "Tunnel successfully closed.\n",
            "Cleanup finished.\n"
          ]
        }
      ]
    }
  ]
}